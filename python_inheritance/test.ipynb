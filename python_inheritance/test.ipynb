{
 "metadata": {
  "language_info": {
   "codemirror_mode": {
    "name": "ipython",
    "version": 3
   },
   "file_extension": ".py",
   "mimetype": "text/x-python",
   "name": "python",
   "nbconvert_exporter": "python",
   "pygments_lexer": "ipython3",
   "version": "3.8.1-final"
  },
  "orig_nbformat": 2,
  "kernelspec": {
   "name": "python3",
   "display_name": "Python 3"
  }
 },
 "nbformat": 4,
 "nbformat_minor": 2,
 "cells": [
  {
   "cell_type": "code",
   "execution_count": 71,
   "metadata": {},
   "outputs": [],
   "source": [
    "# class\n",
    "class SoftwareEngineer:\n",
    "    # class attribute\n",
    "    alias = 'SE'\n",
    "\n",
    "    def __init__(self,name,age,level,salary):\n",
    "        #instance attribute\n",
    "        self.name = name\n",
    "        self.age = age\n",
    "        self.level = level\n",
    "        self.salary = salary\n",
    "    \n",
    "    # python default method\n",
    "    def __str__(self):\n",
    "        information = f\"name = {self.name}, age = {self.age}, level = {self.level}\"\n",
    "        return information\n",
    "    \n",
    "    #python equal method\n",
    "    def __eq__(self,other):\n",
    "        return self.name == other.name and self.age == other.age\n",
    "\n",
    "    # instance method\n",
    "    def code(self):\n",
    "        print(f\"{self.name} is writing code...\")\n",
    "    \n",
    "    def code_in_language(self,language):\n",
    "        print(f\"{self.name} is writing code in {language}...\")\n",
    "    \n",
    "    def information(self):\n",
    "        information = f\"name = {self.name}, age = {self.age}, level = {self.level}\"\n",
    "        return information\n",
    "    \n",
    "    #method without object\n",
    "    def entry_salary2(age):\n",
    "        if age < 10:\n",
    "            return \"without object <10\"\n",
    "        else:\n",
    "            return \"without object >=10\"\n",
    "\n",
    "    #instance method\n",
    "    def entry_salary(self,age):\n",
    "        if age < 45:\n",
    "            return 5000\n",
    "        elif age <500:\n",
    "            return 7000\n",
    "        return 9000\n",
    "    \n",
    "    #cannot access self attribute\n",
    "    @staticmethod\n",
    "    def entry_salary(age):\n",
    "        if age < 25:\n",
    "            return 5000\n",
    "        elif age < 30:\n",
    "            return 7000\n",
    "        return 9000"
   ]
  },
  {
   "cell_type": "code",
   "execution_count": 72,
   "metadata": {},
   "outputs": [
    {
     "output_type": "stream",
     "name": "stdout",
     "text": [
      "Max SE 5000\nSE\n"
     ]
    }
   ],
   "source": [
    "student1 = SoftwareEngineer('Max',20,'Junior',5000)\n",
    "print(student1.name,student1.alias,student1.salary)\n",
    "print(SoftwareEngineer.alias)"
   ]
  },
  {
   "cell_type": "code",
   "execution_count": 73,
   "metadata": {},
   "outputs": [
    {
     "output_type": "stream",
     "name": "stdout",
     "text": [
      "Max is writing code...\nMax is writing code in pyhton...\nname = Max, age = 20, level = Junior\nname = Max, age = 20, level = Junior\n"
     ]
    }
   ],
   "source": [
    "student1.code()\n",
    "student1.code_in_language('pyhton')\n",
    "print(student1.information())\n",
    "print(student1)"
   ]
  },
  {
   "cell_type": "code",
   "execution_count": 74,
   "metadata": {},
   "outputs": [
    {
     "output_type": "stream",
     "name": "stdout",
     "text": [
      "name = Max, age = 20, level = Junior\nTrue\n"
     ]
    }
   ],
   "source": [
    "student2 = SoftwareEngineer('Max',20,'Junior',5000)\n",
    "print(student2)\n",
    "print(student1 == student2) #comparing memory"
   ]
  },
  {
   "cell_type": "code",
   "execution_count": 78,
   "metadata": {},
   "outputs": [
    {
     "output_type": "stream",
     "name": "stdout",
     "text": [
      "9000\n7000\nwithout object >=10\n"
     ]
    }
   ],
   "source": [
    "print(student2.entry_salary(30))\n",
    "print(SoftwareEngineer.entry_salary(27))\n",
    "print(SoftwareEngineer.entry_salary2(11))\n",
    "# print(student2.entry_salary2(11))"
   ]
  },
  {
   "cell_type": "code",
   "execution_count": 79,
   "metadata": {},
   "outputs": [
    {
     "output_type": "error",
     "ename": "TypeError",
     "evalue": "entry_salary2() takes 1 positional argument but 2 were given",
     "traceback": [
      "\u001b[0;31m---------------------------------------------------------------------------\u001b[0m",
      "\u001b[0;31mTypeError\u001b[0m                                 Traceback (most recent call last)",
      "\u001b[0;32m<ipython-input-79-76716bf772b6>\u001b[0m in \u001b[0;36m<module>\u001b[0;34m\u001b[0m\n\u001b[0;32m----> 1\u001b[0;31m \u001b[0mprint\u001b[0m\u001b[0;34m(\u001b[0m\u001b[0mstudent2\u001b[0m\u001b[0;34m.\u001b[0m\u001b[0mentry_salary2\u001b[0m\u001b[0;34m(\u001b[0m\u001b[0;36m11\u001b[0m\u001b[0;34m)\u001b[0m\u001b[0;34m)\u001b[0m\u001b[0;34m\u001b[0m\u001b[0;34m\u001b[0m\u001b[0m\n\u001b[0m",
      "\u001b[0;31mTypeError\u001b[0m: entry_salary2() takes 1 positional argument but 2 were given"
     ]
    }
   ],
   "source": [
    "print(student2.entry_salary2(11))"
   ]
  },
  {
   "cell_type": "code",
   "execution_count": null,
   "metadata": {},
   "outputs": [],
   "source": []
  }
 ]
}