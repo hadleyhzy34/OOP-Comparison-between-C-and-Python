{
 "metadata": {
  "language_info": {
   "codemirror_mode": {
    "name": "ipython",
    "version": 3
   },
   "file_extension": ".py",
   "mimetype": "text/x-python",
   "name": "python",
   "nbconvert_exporter": "python",
   "pygments_lexer": "ipython3",
   "version": "3.8.1-final"
  },
  "orig_nbformat": 2,
  "kernelspec": {
   "name": "python3",
   "display_name": "Python 3"
  }
 },
 "nbformat": 4,
 "nbformat_minor": 2,
 "cells": [
  {
   "cell_type": "code",
   "execution_count": 10,
   "metadata": {},
   "outputs": [],
   "source": [
    "class Employee:  #inherits,extend,override\n",
    "    def __init__(self,name,age,salary):\n",
    "        self.name = name\n",
    "        self.age = age\n",
    "        self.salary = salary\n",
    "    \n",
    "    def work(self):\n",
    "        print(f\"{self.name} is working...\")"
   ]
  },
  {
   "cell_type": "code",
   "execution_count": 11,
   "metadata": {},
   "outputs": [],
   "source": [
    "class SoftwareEngineer(Employee):\n",
    "    #extend\n",
    "    def __init__(self,name,age,salary,level):\n",
    "        super().__init__(name,age,salary)\n",
    "        self.level = level\n",
    "    #overide\n",
    "    def work(self):\n",
    "        print(f\"{self.name} is coding...\")\n",
    "    \n",
    "    def debug(self):\n",
    "        print(f\"{self.name} is debugging...\")"
   ]
  },
  {
   "cell_type": "code",
   "execution_count": 12,
   "metadata": {},
   "outputs": [
    {
     "output_type": "stream",
     "name": "stdout",
     "text": [
      "Max 25\nMax is coding...\nMax is debugging...\n"
     ]
    }
   ],
   "source": [
    "se = SoftwareEngineer('Max',25,5000,'Junior')\n",
    "print(se.name,se.age)\n",
    "se.work()\n",
    "se.debug()"
   ]
  },
  {
   "cell_type": "code",
   "execution_count": 13,
   "metadata": {},
   "outputs": [],
   "source": [
    "class Designer(Employee):\n",
    "    def drawing(self):\n",
    "        print(f\"{self.name} is drawing...\")\n",
    "    \n",
    "    def work(self):\n",
    "        print(f\"{self.name} is designing...\")"
   ]
  },
  {
   "cell_type": "code",
   "execution_count": 14,
   "metadata": {},
   "outputs": [
    {
     "output_type": "stream",
     "name": "stdout",
     "text": [
      "Philipp 27\nPhilipp is designing...\nPhilipp is drawing...\n"
     ]
    }
   ],
   "source": [
    "d = Designer('Philipp',27,7000)\n",
    "print(d.name,d.age)\n",
    "d.work()\n",
    "d.drawing()"
   ]
  },
  {
   "source": [
    "## Polymorphism"
   ],
   "cell_type": "markdown",
   "metadata": {}
  },
  {
   "cell_type": "code",
   "execution_count": 16,
   "metadata": {},
   "outputs": [],
   "source": [
    "employees = [SoftwareEngineer(\"Max\", 25, 6000, \"Junior\"),\n",
    "             SoftwareEngineer(\"George\", 25, 6000, \"Junior\"),\n",
    "             Designer(\"Lisa\", 25, 6000),\n",
    "            ]"
   ]
  },
  {
   "cell_type": "code",
   "execution_count": 17,
   "metadata": {},
   "outputs": [
    {
     "output_type": "stream",
     "name": "stdout",
     "text": [
      "Max is coding...\nGeorge is coding...\nLisa is designing...\n"
     ]
    }
   ],
   "source": [
    "def motivate_employees(employees):\n",
    "    for employee in employees:\n",
    "        employee.work()\n",
    "\n",
    "motivate_employees(employees)"
   ]
  },
  {
   "cell_type": "code",
   "execution_count": null,
   "metadata": {},
   "outputs": [],
   "source": [
    "#inheritance\n",
    "#inherit,extend,override\n",
    "#super.__init__()\n",
    "#polymorphism"
   ]
  }
 ]
}